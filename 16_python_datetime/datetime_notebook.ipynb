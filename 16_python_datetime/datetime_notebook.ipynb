{
 "cells": [
  {
   "cell_type": "code",
   "execution_count": 1,
   "metadata": {},
   "outputs": [
    {
     "name": "stdout",
     "output_type": "stream",
     "text": [
      "['MAXYEAR', 'MINYEAR', '__all__', '__builtins__', '__cached__', '__doc__', '__file__', '__loader__', '__name__', '__package__', '__spec__', 'date', 'datetime', 'datetime_CAPI', 'sys', 'time', 'timedelta', 'timezone', 'tzinfo']\n"
     ]
    }
   ],
   "source": [
    "import datetime\n",
    "print(dir(datetime))"
   ]
  },
  {
   "cell_type": "code",
   "execution_count": 2,
   "metadata": {},
   "outputs": [],
   "source": [
    "from datetime import datetime"
   ]
  },
  {
   "cell_type": "code",
   "execution_count": 5,
   "metadata": {},
   "outputs": [],
   "source": [
    "now = datetime.now()"
   ]
  },
  {
   "cell_type": "code",
   "execution_count": 6,
   "metadata": {},
   "outputs": [
    {
     "data": {
      "text/plain": [
       "datetime.datetime(2023, 3, 3, 11, 41, 0, 169724)"
      ]
     },
     "execution_count": 6,
     "metadata": {},
     "output_type": "execute_result"
    }
   ],
   "source": [
    "now"
   ]
  },
  {
   "cell_type": "code",
   "execution_count": 10,
   "metadata": {},
   "outputs": [
    {
     "data": {
      "text/plain": [
       "datetime.date(2023, 3, 3)"
      ]
     },
     "execution_count": 10,
     "metadata": {},
     "output_type": "execute_result"
    }
   ],
   "source": [
    "now.date()"
   ]
  },
  {
   "cell_type": "code",
   "execution_count": 13,
   "metadata": {},
   "outputs": [
    {
     "data": {
      "text/plain": [
       "41"
      ]
     },
     "execution_count": 13,
     "metadata": {},
     "output_type": "execute_result"
    }
   ],
   "source": [
    "now.minute"
   ]
  },
  {
   "cell_type": "code",
   "execution_count": 14,
   "metadata": {},
   "outputs": [
    {
     "data": {
      "text/plain": [
       "3"
      ]
     },
     "execution_count": 14,
     "metadata": {},
     "output_type": "execute_result"
    }
   ],
   "source": [
    "now.day"
   ]
  },
  {
   "cell_type": "code",
   "execution_count": 8,
   "metadata": {},
   "outputs": [
    {
     "data": {
      "text/plain": [
       "1677836460.169724"
      ]
     },
     "execution_count": 8,
     "metadata": {},
     "output_type": "execute_result"
    }
   ],
   "source": [
    "# Timestamp or Unix timestamp is the number of seconds elapsed from 1st of January 1970 UTC.\n",
    "now.timestamp()"
   ]
  },
  {
   "cell_type": "code",
   "execution_count": 15,
   "metadata": {},
   "outputs": [
    {
     "name": "stdout",
     "output_type": "stream",
     "text": [
      "time: 11:41:00\n",
      "time one: 03/03/2023, 11:41:00\n",
      "time two: 03/03/2023, 11:41:00\n"
     ]
    }
   ],
   "source": [
    "#forming our date with strftime\n",
    "t = now.strftime(\"%H:%M:%S\")\n",
    "print(\"time:\", t)\n",
    "time_one = now.strftime(\"%m/%d/%Y, %H:%M:%S\")\n",
    "# mm/dd/YY H:M:S format\n",
    "print(\"time one:\", time_one)\n",
    "time_two = now.strftime(\"%d/%m/%Y, %H:%M:%S\")\n",
    "# dd/mm/YY H:M:S format\n",
    "print(\"time two:\", time_two)"
   ]
  },
  {
   "cell_type": "code",
   "execution_count": 17,
   "metadata": {},
   "outputs": [
    {
     "name": "stdout",
     "output_type": "stream",
     "text": [
      "date_string = 5 December, 2019\n",
      "date_object = 2019-12-05 00:00:00\n",
      "date = 2019-12-05 00:00:00\n"
     ]
    }
   ],
   "source": [
    "#new date\n",
    "date_string = \"5 December, 2019\"\n",
    "print(\"date_string =\", date_string)\n",
    "date_object = datetime.strptime(date_string, \"%d %B, %Y\")\n",
    "print(\"date_object =\", date_object)\n",
    "date_object.date()\n",
    "print(\"date =\", date_object)"
   ]
  },
  {
   "cell_type": "code",
   "execution_count": 18,
   "metadata": {},
   "outputs": [
    {
     "name": "stdout",
     "output_type": "stream",
     "text": [
      "2020-01-01\n",
      "Current date: 2023-03-03\n",
      "Current year: 2023\n",
      "Current month: 3\n",
      "Current day: 3\n"
     ]
    }
   ],
   "source": [
    "from datetime import date\n",
    "d = date(2020, 1, 1)\n",
    "print(d)\n",
    "print('Current date:', d.today())    # 2019-12-05\n",
    "# date object of today's date\n",
    "today = date.today()\n",
    "print(\"Current year:\", today.year)   # 2019\n",
    "print(\"Current month:\", today.month) # 12\n",
    "print(\"Current day:\", today.day)     # 5"
   ]
  },
  {
   "cell_type": "code",
   "execution_count": 19,
   "metadata": {},
   "outputs": [
    {
     "name": "stdout",
     "output_type": "stream",
     "text": [
      "a = 00:00:00\n",
      "b = 10:30:50\n",
      "c = 10:30:50\n",
      "d = 10:30:50.200555\n"
     ]
    }
   ],
   "source": [
    "from datetime import time\n",
    "# time(hour = 0, minute = 0, second = 0)\n",
    "a = time()\n",
    "print(\"a =\", a)\n",
    "# time(hour, minute and second)\n",
    "b = time(10, 30, 50)\n",
    "print(\"b =\", b)\n",
    "# time(hour, minute and second)\n",
    "c = time(hour=10, minute=30, second=50)\n",
    "print(\"c =\", c)\n",
    "# time(hour, minute, second, microsecond)\n",
    "d = time(10, 30, 50, 200555)\n",
    "print(\"d =\", d)"
   ]
  },
  {
   "cell_type": "code",
   "execution_count": 20,
   "metadata": {},
   "outputs": [
    {
     "name": "stdout",
     "output_type": "stream",
     "text": [
      "time one: 03/03/2023\n"
     ]
    }
   ],
   "source": [
    "# exercise :Format the current date using this format: \"%m/%d/%Y\"\n",
    "\n",
    "time_one = now.strftime(\"%m/%d/%Y\")\n",
    "# mm/dd/YY H:M:S format\n",
    "print(\"time one:\", time_one)"
   ]
  },
  {
   "cell_type": "code",
   "execution_count": 23,
   "metadata": {},
   "outputs": [],
   "source": [
    "d = date(2020, 1, 1)"
   ]
  },
  {
   "cell_type": "code",
   "execution_count": null,
   "metadata": {},
   "outputs": [],
   "source": []
  }
 ],
 "metadata": {
  "kernelspec": {
   "display_name": "Python 3",
   "language": "python",
   "name": "python3"
  },
  "language_info": {
   "codemirror_mode": {
    "name": "ipython",
    "version": 3
   },
   "file_extension": ".py",
   "mimetype": "text/x-python",
   "name": "python",
   "nbconvert_exporter": "python",
   "pygments_lexer": "ipython3",
   "version": "3.9.7"
  },
  "orig_nbformat": 4
 },
 "nbformat": 4,
 "nbformat_minor": 2
}
