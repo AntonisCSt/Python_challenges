{
 "cells": [
  {
   "attachments": {},
   "cell_type": "markdown",
   "metadata": {},
   "source": [
    "## Exercises: Level 1\n",
    "\n",
    "*Question 1): Explain the difference between map, filter, and reduce.* \n",
    "\n",
    "Answer:Even though all of them are built-in higher order functions their differences are the following.\n",
    "\n",
    "map: It uses its first input as a function and apply it to every element of the second iterable input. It will return the same type of output as the second input.\n",
    "\n",
    "filter: Same as map but the difference here is that it will return boolean.\n",
    "\n",
    "reduce: same as map but it does not return an iterable, it will return a single value based on the fist input function\n",
    "\n",
    "*Question 2): Explain the difference between higher order function, closure and decorator.*\n",
    "\n",
    "Answer:\n",
    "\n",
    "higher order function: Can take as an input one or more function and is called like it would in a normal function. (of course one of the inputs is a function)\n",
    "\n",
    "closure: closure is created by nesting a function inside another encapsulating function and then returning the inner function same as the higher order function but\n",
    "\n",
    "decorators: Same as higher order function but using a @function before the input function you dont have to actually define explicitly the higher order function. \n"
   ]
  },
  {
   "attachments": {},
   "cell_type": "markdown",
   "metadata": {},
   "source": [
    "Question 3): Define a call function before map, filter or reduce, see examples."
   ]
  },
  {
   "cell_type": "code",
   "execution_count": null,
   "metadata": {},
   "outputs": [],
   "source": []
  },
  {
   "attachments": {},
   "cell_type": "markdown",
   "metadata": {},
   "source": [
    "Question 4): Use for loop to print each country in the countries list.\n"
   ]
  },
  {
   "cell_type": "code",
   "execution_count": 1,
   "metadata": {},
   "outputs": [],
   "source": [
    "countries = ['Estonia', 'Finland', 'Sweden', 'Denmark', 'Norway', 'Iceland']\n",
    "names = ['Asabeneh', 'Lidiya', 'Ermias', 'Abraham']\n",
    "numbers = [1, 2, 3, 4, 5, 6, 7, 8, 9, 10]"
   ]
  },
  {
   "cell_type": "code",
   "execution_count": 3,
   "metadata": {},
   "outputs": [
    {
     "name": "stdout",
     "output_type": "stream",
     "text": [
      "Estonia\n",
      "Finland\n",
      "Sweden\n",
      "Denmark\n",
      "Norway\n",
      "Iceland\n"
     ]
    }
   ],
   "source": [
    "for country in countries:\n",
    "    print(country)"
   ]
  },
  {
   "attachments": {},
   "cell_type": "markdown",
   "metadata": {},
   "source": [
    "## Exercises: Level 2"
   ]
  },
  {
   "attachments": {},
   "cell_type": "markdown",
   "metadata": {},
   "source": [
    "Use map to create a new list by changing each country to uppercase in the countries list"
   ]
  },
  {
   "cell_type": "code",
   "execution_count": 7,
   "metadata": {},
   "outputs": [
    {
     "name": "stdout",
     "output_type": "stream",
     "text": [
      "['ESTONIA', 'FINLAND', 'SWEDEN', 'DENMARK', 'NORWAY', 'ICELAND']\n"
     ]
    }
   ],
   "source": [
    "print(list(map(lambda x : x.upper(), countries)))"
   ]
  },
  {
   "attachments": {},
   "cell_type": "markdown",
   "metadata": {},
   "source": [
    "Use map to create a new list by changing each number to its square in the numbers list"
   ]
  },
  {
   "cell_type": "code",
   "execution_count": 10,
   "metadata": {},
   "outputs": [
    {
     "name": "stdout",
     "output_type": "stream",
     "text": [
      "[1, 4, 9, 16, 25, 36, 49, 64, 81, 100]\n"
     ]
    }
   ],
   "source": [
    "print(list(map(lambda x : x**2, numbers)))"
   ]
  },
  {
   "cell_type": "markdown",
   "metadata": {},
   "source": [
    "Use map to change each name to uppercase in the names list"
   ]
  },
  {
   "cell_type": "code",
   "execution_count": null,
   "metadata": {},
   "outputs": [],
   "source": []
  },
  {
   "cell_type": "markdown",
   "metadata": {},
   "source": [
    "Use filter to filter out countries containing 'land'."
   ]
  },
  {
   "cell_type": "code",
   "execution_count": 11,
   "metadata": {},
   "outputs": [
    {
     "name": "stdout",
     "output_type": "stream",
     "text": [
      "['Estonia', 'Sweden', 'Denmark', 'Norway']\n"
     ]
    }
   ],
   "source": [
    "\n",
    "\n",
    "def has_land(name):\n",
    "    if \"land\" in name:\n",
    "        return False\n",
    "    return True\n",
    "\n",
    "countries_without_land = filter(has_land, countries)\n",
    "print(list(countries_without_land))  "
   ]
  },
  {
   "attachments": {},
   "cell_type": "markdown",
   "metadata": {},
   "source": [
    "Use filter to filter out countries having exactly six characters."
   ]
  },
  {
   "cell_type": "code",
   "execution_count": 3,
   "metadata": {},
   "outputs": [
    {
     "name": "stdout",
     "output_type": "stream",
     "text": [
      "['Estonia', 'Finland', 'Denmark', 'Iceland']\n"
     ]
    }
   ],
   "source": [
    "def has_not_6_letters(name):\n",
    "    if len(name)==6:\n",
    "        return False\n",
    "    return True\n",
    "\n",
    "countries_without_land = filter(has_not_6_letters, countries)\n",
    "print(list(countries_without_land))  "
   ]
  },
  {
   "attachments": {},
   "cell_type": "markdown",
   "metadata": {},
   "source": [
    "Use filter to filter out countries starting with an 'E'"
   ]
  },
  {
   "attachments": {},
   "cell_type": "markdown",
   "metadata": {},
   "source": [
    "Use filter to filter out countries containing six letters and more in the country list."
   ]
  },
  {
   "attachments": {},
   "cell_type": "markdown",
   "metadata": {},
   "source": [
    "Chain two or more list iterators (eg. arr.map(callback).filter(callback).reduce(callback))"
   ]
  },
  {
   "cell_type": "code",
   "execution_count": 4,
   "metadata": {},
   "outputs": [
    {
     "ename": "AttributeError",
     "evalue": "'filter' object has no attribute 'map'",
     "output_type": "error",
     "traceback": [
      "\u001b[1;31m---------------------------------------------------------------------------\u001b[0m",
      "\u001b[1;31mAttributeError\u001b[0m                            Traceback (most recent call last)",
      "\u001b[1;32mc:\\Users\\AX-St\\trainning\\Python\\Python_challenges\\15_high_order_functions\\Exercises.ipynb Cell 21\u001b[0m in \u001b[0;36m<cell line: 3>\u001b[1;34m()\u001b[0m\n\u001b[0;32m      <a href='vscode-notebook-cell:/c%3A/Users/AX-St/trainning/Python/Python_challenges/15_high_order_functions/Exercises.ipynb#X30sZmlsZQ%3D%3D?line=0'>1</a>\u001b[0m numbers \u001b[39m=\u001b[39m [\u001b[39m1\u001b[39m, \u001b[39m4\u001b[39m, \u001b[39m6\u001b[39m, \u001b[39m8\u001b[39m, \u001b[39m3\u001b[39m, \u001b[39m9\u001b[39m, \u001b[39m2\u001b[39m, \u001b[39m5\u001b[39m]\n\u001b[1;32m----> <a href='vscode-notebook-cell:/c%3A/Users/AX-St/trainning/Python/Python_challenges/15_high_order_functions/Exercises.ipynb#X30sZmlsZQ%3D%3D?line=2'>3</a>\u001b[0m sume \u001b[39m=\u001b[39m \u001b[39mfilter\u001b[39;49m(\u001b[39mlambda\u001b[39;49;00m x: x \u001b[39m>\u001b[39;49m \u001b[39m5\u001b[39;49m \u001b[39mand\u001b[39;49;00m x \u001b[39m%\u001b[39;49m \u001b[39m2\u001b[39;49m \u001b[39m==\u001b[39;49m \u001b[39m0\u001b[39;49m, numbers)\u001b[39m.\u001b[39;49mmap(\u001b[39mlambda\u001b[39;00m x: x \u001b[39m*\u001b[39m \u001b[39m2\u001b[39m)\u001b[39m.\u001b[39msum() \u001b[39m# Sum the mapped numbers\u001b[39;00m\n\u001b[0;32m      <a href='vscode-notebook-cell:/c%3A/Users/AX-St/trainning/Python/Python_challenges/15_high_order_functions/Exercises.ipynb#X30sZmlsZQ%3D%3D?line=5'>6</a>\u001b[0m \u001b[39mprint\u001b[39m(sume)\n",
      "\u001b[1;31mAttributeError\u001b[0m: 'filter' object has no attribute 'map'"
     ]
    }
   ],
   "source": [
    "numbers = [1, 4, 6, 8, 3, 9, 2, 5]\n",
    "\n",
    "sume = filter(lambda x: x > 5 and x % 2 == 0, numbers).map(lambda x: x * 2).sum() # Sum the mapped numbers\n",
    "\n",
    "print(sume)"
   ]
  },
  {
   "cell_type": "markdown",
   "metadata": {},
   "source": [
    " Declare a function called get_string_lists which takes a list as a parameter and then returns a list containing only string items."
   ]
  },
  {
   "cell_type": "code",
   "execution_count": null,
   "metadata": {},
   "outputs": [],
   "source": [
    "def get_string_lists(input_list:list) -> list:\n",
    "    return map(lambda x : str(x), input_list)"
   ]
  },
  {
   "cell_type": "markdown",
   "metadata": {},
   "source": [
    "Use reduce to sum all the numbers in the numbers list."
   ]
  },
  {
   "cell_type": "code",
   "execution_count": 10,
   "metadata": {},
   "outputs": [
    {
     "name": "stdout",
     "output_type": "stream",
     "text": [
      "38\n"
     ]
    }
   ],
   "source": [
    "from functools import reduce\n",
    "print(reduce(lambda acc, x: acc + x, numbers))"
   ]
  },
  {
   "attachments": {},
   "cell_type": "markdown",
   "metadata": {},
   "source": [
    " we pass a lambda function with two arguments acc and x to the reduce() function. The acc argument represents the accumulator, which is initialized to the first value in the sequence. The x argument represents the next value in the sequence being reduced. The lambda function adds each value to the accumulator, and returns the updated accumulator.\n",
    "\n",
    "The reduce() function applies the lambda function to each value in the sequence, until all values have been reduced to a single result. The final result is then returned."
   ]
  },
  {
   "cell_type": "markdown",
   "metadata": {},
   "source": []
  }
 ],
 "metadata": {
  "kernelspec": {
   "display_name": "Python 3",
   "language": "python",
   "name": "python3"
  },
  "language_info": {
   "codemirror_mode": {
    "name": "ipython",
    "version": 3
   },
   "file_extension": ".py",
   "mimetype": "text/x-python",
   "name": "python",
   "nbconvert_exporter": "python",
   "pygments_lexer": "ipython3",
   "version": "3.9.7"
  },
  "orig_nbformat": 4,
  "vscode": {
   "interpreter": {
    "hash": "2918bfb50ef3f4251de1c3d221a3a73e66f13db4e14d757cdfa49905fdfb91be"
   }
  }
 },
 "nbformat": 4,
 "nbformat_minor": 2
}
