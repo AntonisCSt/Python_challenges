{
 "cells": [
  {
   "attachments": {},
   "cell_type": "markdown",
   "metadata": {},
   "source": [
    "## Exercises: Level 1\n",
    "\n",
    "*Question 1): Explain the difference between map, filter, and reduce.* \n",
    "\n",
    "Answer:Even though all of them are built-in higher order functions their differences are the following.\n",
    "\n",
    "map: It uses its first input as a function and apply it to every element of the second iterable input. It will return the same type of output as the second input.\n",
    "\n",
    "filter: Same as map but the difference here is that it will return boolean.\n",
    "\n",
    "reduce: same as map but it does not return an iterable, it will return a single value based on the fist input function\n",
    "\n",
    "*Question 2): Explain the difference between higher order function, closure and decorator.*\n",
    "\n",
    "Answer:\n",
    "\n",
    "higher order function: Can take as an input one or more function and is called like it would in a normal function. (of course one of the inputs is a function)\n",
    "\n",
    "closure: closure is created by nesting a function inside another encapsulating function and then returning the inner function same as the higher order function but\n",
    "\n",
    "decorators: Same as higher order function but using a @function before the input function you dont have to actually define explicitly the higher order function. \n"
   ]
  },
  {
   "attachments": {},
   "cell_type": "markdown",
   "metadata": {},
   "source": [
    "Question 3): Define a call function before map, filter or reduce, see examples."
   ]
  },
  {
   "cell_type": "code",
   "execution_count": null,
   "metadata": {},
   "outputs": [],
   "source": []
  },
  {
   "attachments": {},
   "cell_type": "markdown",
   "metadata": {},
   "source": [
    "Question 4): Use for loop to print each country in the countries list.\n"
   ]
  },
  {
   "cell_type": "code",
   "execution_count": null,
   "metadata": {},
   "outputs": [],
   "source": []
  },
  {
   "attachments": {},
   "cell_type": "markdown",
   "metadata": {},
   "source": [
    "Question 5): Use for to print each name in the names list.\n"
   ]
  },
  {
   "cell_type": "code",
   "execution_count": null,
   "metadata": {},
   "outputs": [],
   "source": []
  },
  {
   "attachments": {},
   "cell_type": "markdown",
   "metadata": {},
   "source": [
    "Question 6): Use for to print each number in the numbers list."
   ]
  }
 ],
 "metadata": {
  "kernelspec": {
   "display_name": "Python 3",
   "language": "python",
   "name": "python3"
  },
  "language_info": {
   "name": "python",
   "version": "3.9.7"
  },
  "orig_nbformat": 4,
  "vscode": {
   "interpreter": {
    "hash": "2918bfb50ef3f4251de1c3d221a3a73e66f13db4e14d757cdfa49905fdfb91be"
   }
  }
 },
 "nbformat": 4,
 "nbformat_minor": 2
}
