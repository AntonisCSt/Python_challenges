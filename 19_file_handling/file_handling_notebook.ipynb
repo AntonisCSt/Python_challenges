{
 "cells": [
  {
   "cell_type": "code",
   "execution_count": 24,
   "metadata": {},
   "outputs": [],
   "source": [
    "mode = \"r\"\n",
    "f = open('./pokemon_file.txt', mode=mode)"
   ]
  },
  {
   "cell_type": "code",
   "execution_count": 25,
   "metadata": {},
   "outputs": [
    {
     "name": "stdout",
     "output_type": "stream",
     "text": [
      "<_io.TextIOWrapper name='./pokemon_file.txt' mode='r' encoding='cp1253'>\n",
      "<class 'str'>\n",
      "Features\n",
      "The game has a near-fully open landscape rather than having set routes, similar to the Wild\n",
      "/n\n"
     ]
    }
   ],
   "source": [
    "print(f)\n",
    "txt = f.read(100)\n",
    "print(type(txt))\n",
    "print(txt)\n",
    "print('/n')\n",
    "f.close()"
   ]
  },
  {
   "cell_type": "code",
   "execution_count": null,
   "metadata": {},
   "outputs": [],
   "source": []
  },
  {
   "cell_type": "code",
   "execution_count": 26,
   "metadata": {},
   "outputs": [],
   "source": [
    "def num_lines_and_words(file_path:str)-> None:\n",
    "    f = open(file_path)\n",
    "    lines = f.read().splitlines()\n",
    "    print(f'number of lines:{len(lines)}')\n",
    "\n",
    "    num_words = 0\n",
    "    for line in lines:\n",
    "        num_words += len(line.split(\" \"))\n",
    "\n",
    "    print(f'number of words:{num_words}')"
   ]
  },
  {
   "cell_type": "code",
   "execution_count": 27,
   "metadata": {},
   "outputs": [
    {
     "name": "stdout",
     "output_type": "stream",
     "text": [
      "number of lines:30\n",
      "number of words:719\n"
     ]
    }
   ],
   "source": [
    "num_lines_and_words('./pokemon_file.txt')"
   ]
  },
  {
   "cell_type": "code",
   "execution_count": null,
   "metadata": {},
   "outputs": [],
   "source": [
    "def find_most_common_words(file_path:str,num_of_words:int)-> list(tuple):\n",
    "    f = open(file_path)\n",
    "    lines = f.read().splitlines()\n",
    "    most_common_words={}\n",
    "\n",
    "    for line in lines:\n",
    "        words = line.split(\" \")\n",
    "        for word in words:\n",
    "\n",
    "            if word not in most_common_words:\n",
    "                most_common_words[word] = 0\n",
    "            else:\n",
    "                most_common_words[word] += 1\n",
    "\n",
    "\n",
    "    return most_common_words_ordered[0:num_of_words]"
   ]
  },
  {
   "cell_type": "code",
   "execution_count": 28,
   "metadata": {},
   "outputs": [],
   "source": [
    "lol = [(10, 'the'),(2, 'lol'),(14, 'hty')]"
   ]
  },
  {
   "cell_type": "code",
   "execution_count": 33,
   "metadata": {},
   "outputs": [],
   "source": [
    "most_common_words={}"
   ]
  },
  {
   "cell_type": "code",
   "execution_count": 34,
   "metadata": {},
   "outputs": [],
   "source": [
    "most_common_words['lol'] = 2"
   ]
  },
  {
   "cell_type": "code",
   "execution_count": 35,
   "metadata": {},
   "outputs": [
    {
     "data": {
      "text/plain": [
       "{'lol': 2}"
      ]
     },
     "execution_count": 35,
     "metadata": {},
     "output_type": "execute_result"
    }
   ],
   "source": [
    "most_common_words"
   ]
  },
  {
   "cell_type": "code",
   "execution_count": 36,
   "metadata": {},
   "outputs": [
    {
     "data": {
      "text/plain": [
       "True"
      ]
     },
     "execution_count": 36,
     "metadata": {},
     "output_type": "execute_result"
    }
   ],
   "source": [
    "'lol' in most_common_words"
   ]
  },
  {
   "cell_type": "code",
   "execution_count": 37,
   "metadata": {},
   "outputs": [],
   "source": [
    "most_common_words['lol']+=1"
   ]
  },
  {
   "cell_type": "code",
   "execution_count": null,
   "metadata": {},
   "outputs": [],
   "source": []
  }
 ],
 "metadata": {
  "kernelspec": {
   "display_name": "Python 3",
   "language": "python",
   "name": "python3"
  },
  "language_info": {
   "codemirror_mode": {
    "name": "ipython",
    "version": 3
   },
   "file_extension": ".py",
   "mimetype": "text/x-python",
   "name": "python",
   "nbconvert_exporter": "python",
   "pygments_lexer": "ipython3",
   "version": "3.9.7"
  },
  "orig_nbformat": 4
 },
 "nbformat": 4,
 "nbformat_minor": 2
}
